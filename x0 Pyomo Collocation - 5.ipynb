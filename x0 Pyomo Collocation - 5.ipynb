{
 "cells": [
  {
   "cell_type": "markdown",
   "metadata": {},
   "source": [
    "Generate training data using function for dx/dt"
   ]
  },
  {
   "cell_type": "code",
   "execution_count": 1,
   "metadata": {},
   "outputs": [],
   "source": [
    "import torch\n",
    "import torch.nn as nn\n",
    "import numpy as np\n",
    "\n",
    "# Define the ODE\n",
    "def dxdt_eval(x):\n",
    "    dxdt = -x**3\n",
    "    return dxdt\n"
   ]
  },
  {
   "cell_type": "code",
   "execution_count": 2,
   "metadata": {},
   "outputs": [
    {
     "name": "stdout",
     "output_type": "stream",
     "text": [
      "WARNING: DEPRECATED: Declaring class 'OmltBlockData' derived from\n",
      "'_BlockData'. The class '_BlockData' has been renamed to 'BlockData'.\n",
      "(deprecated in 6.7.2) (called from c:\\Users\\Jake\\CondaJun24\\Lib\\site-\n",
      "packages\\omlt\\block.py:33)\n",
      "Ipopt 3.11.1: \n",
      "\n",
      "******************************************************************************\n",
      "This program contains Ipopt, a library for large-scale nonlinear optimization.\n",
      " Ipopt is released as open source code under the Eclipse Public License (EPL).\n",
      "         For more information visit http://projects.coin-or.org/Ipopt\n",
      "******************************************************************************\n",
      "\n",
      "NOTE: You are using Ipopt by default with the MUMPS linear solver.\n",
      "      Other linear solvers might be more efficient (see Ipopt documentation).\n",
      "\n",
      "\n",
      "This is Ipopt version 3.11.1, running with linear solver mumps.\n",
      "\n",
      "Number of nonzeros in equality constraint Jacobian...:      424\n",
      "Number of nonzeros in inequality constraint Jacobian.:        0\n",
      "Number of nonzeros in Lagrangian Hessian.............:       61\n",
      "\n",
      "Total number of variables............................:      123\n",
      "                     variables with only lower bounds:        0\n",
      "                variables with lower and upper bounds:        0\n",
      "                     variables with only upper bounds:        0\n",
      "Total number of equality constraints.................:      122\n",
      "Total number of inequality constraints...............:        0\n",
      "        inequality constraints with only lower bounds:        0\n",
      "   inequality constraints with lower and upper bounds:        0\n",
      "        inequality constraints with only upper bounds:        0\n",
      "\n",
      "iter    objective    inf_pr   inf_du lg(mu)  ||d||  lg(rg) alpha_du alpha_pr  ls\n",
      "   0 2.5000000e-001 3.00e+000 1.61e-002  -1.0 0.00e+000    -  0.00e+000 0.00e+000   0\n",
      "   1 4.9303807e-032 1.25e-001 2.97e-016  -1.0 2.50e+000    -  1.00e+000 1.00e+000h  1\n",
      "   2 0.0000000e+000 5.84e-002 4.70e-018  -2.5 2.65e-001    -  1.00e+000 1.00e+000h  1\n",
      "   3 0.0000000e+000 9.02e-004 8.36e-020  -2.5 8.79e-002    -  1.00e+000 1.00e+000h  1\n",
      "   4 0.0000000e+000 2.57e-008 4.35e-025  -5.7 1.07e-003    -  1.00e+000 1.00e+000h  1\n",
      "   5 0.0000000e+000 3.03e-014 6.86e-036  -8.6 2.77e-008    -  1.00e+000 1.00e+000h  1\n",
      "\n",
      "Number of Iterations....: 5\n",
      "\n",
      "                                   (scaled)                 (unscaled)\n",
      "Objective...............:  0.0000000000000000e+000   0.0000000000000000e+000\n",
      "Dual infeasibility......:  6.8581535744116870e-036   6.8581535744116870e-036\n",
      "Constraint violation....:  2.0138711044222077e-014   3.0336844147882402e-014\n",
      "Complementarity.........:  0.0000000000000000e+000   0.0000000000000000e+000\n",
      "Overall NLP error.......:  2.0138711044222077e-014   3.0336844147882402e-014\n",
      "\n",
      "\n",
      "Number of objective function evaluations             = 6\n",
      "Number of objective gradient evaluations             = 6\n",
      "Number of equality constraint evaluations            = 6\n",
      "Number of inequality constraint evaluations          = 0\n",
      "Number of equality constraint Jacobian evaluations   = 6\n",
      "Number of inequality constraint Jacobian evaluations = 0\n",
      "Number of Lagrangian Hessian evaluations             = 5\n",
      "Total CPU secs in IPOPT (w/o function evaluations)   =      0.010\n",
      "Total CPU secs in NLP function evaluations           =      0.000\n",
      "\n",
      "EXIT: Optimal Solution Found.\n",
      "0.7071067812076183\n"
     ]
    }
   ],
   "source": [
    "import pyomo.environ as pyo\n",
    "from omlt.neuralnet import FullSpaceNNFormulation, ReluComplementarityFormulation\n",
    "import pyomo.dae as dae\n",
    "import torch.nn as nn\n",
    "\n",
    "# Define the Pyomo model\n",
    "m = pyo.ConcreteModel()\n",
    "\n",
    "# Define a range of times to solve\n",
    "t0 = 0\n",
    "tend = 1\n",
    "m.t = dae.ContinuousSet(bounds=(t0, tend))\n",
    "\n",
    "# Define variables\n",
    "m.x = pyo.Var(m.t)\n",
    "m.x0 = pyo.Var(initialize=3)\n",
    "m.dxdt = dae.DerivativeVar(m.x, wrt=m.t)\n",
    "\n",
    "# Define the target for x at tend\n",
    "x_target = 0.5\n",
    "\n",
    "# Define initial condition constraint\n",
    "def init_condition(m):\n",
    "    return m.x[t0] == m.x0\n",
    "m.init_condition = pyo.Constraint(rule=init_condition)\n",
    "\n",
    "# Connect m.dxdt to nn output\n",
    "def connect_output(m, t):\n",
    "    return m.dxdt[t] == dxdt_eval((m.x[t]))\n",
    "m.outputs = pyo.Constraint(m.t, rule=connect_output)\n",
    "\n",
    "# Discretize wrt time to approximate x(t)\n",
    "discretizer = pyo.TransformationFactory('dae.collocation')\n",
    "discretizer.apply_to(m, nfe=20, ncp=3, scheme='LAGRANGE-RADAU')\n",
    "\n",
    "# Define the objective\n",
    "def objective_rule(m):\n",
    "    return (x_target - m.x[tend])**2\n",
    "m.objective = pyo.Objective(rule=objective_rule, sense=pyo.minimize)\n",
    "\n",
    "# Solve the model\n",
    "solver = pyo.SolverFactory('ipopt')\n",
    "results = solver.solve(m, tee=True)\n",
    "solution = pyo.value(m.x0)\n",
    "\n",
    "print(solution)\n"
   ]
  },
  {
   "cell_type": "code",
   "execution_count": 3,
   "metadata": {},
   "outputs": [
    {
     "data": {
      "image/png": "[encoded data removed]",
      "text/plain": [
       "<Figure size 640x480 with 1 Axes>"
      ]
     },
     "metadata": {},
     "output_type": "display_data"
    }
   ],
   "source": [
    "import matplotlib.pyplot as plt\n",
    "tplot = []\n",
    "xplot = []\n",
    "for t in m.t:\n",
    "    tplot.append(t)\n",
    "    xplot.append(pyo.value(m.x[t]))\n",
    "\n",
    "\n",
    "plt.figure()\n",
    "plt.plot(tplot, xplot)\n",
    "plt.show()\n"
   ]
  },
  {
   "cell_type": "code",
   "execution_count": null,
   "metadata": {},
   "outputs": [],
   "source": []
  }
 ],
 "metadata": {
  "kernelspec": {
   "display_name": "base",
   "language": "python",
   "name": "python3"
  },
  "language_info": {
   "codemirror_mode": {
    "name": "ipython",
    "version": 3
   },
   "file_extension": ".py",
   "mimetype": "text/x-python",
   "name": "python",
   "nbconvert_exporter": "python",
   "pygments_lexer": "ipython3",
   "version": "3.11.7"
  }
 },
 "nbformat": 4,
 "nbformat_minor": 2
}
