{
 "cells": [
  {
   "cell_type": "code",
   "execution_count": 1,
   "metadata": {},
   "outputs": [],
   "source": [
    "import numpy as np\n",
    "import matplotlib.pyplot as plt\n",
    "import pyomo.environ as pyo\n",
    "\n",
    "# Define function to approximate value of x(t), solution of dx/dt\n",
    "def x_approx(coeffs, t):\n",
    "    '''\n",
    "    Inputs:\n",
    "    (coeffs): list of coefficients used in the polynomial approximation from t0 to tend\n",
    "    (t): time point to evaluate x(t) approximation\n",
    "    '''\n",
    "    x_approx = coeffs[0] + coeffs[1]*t + coeffs[2]*t**2 + coeffs[3]*t**3 + coeffs[4]*t**4\n",
    "    return x_approx\n",
    "\n",
    "# Use Pyomo to solve for new coefficients for x(t) approximation based on x0 guess\n",
    "def get_coeffs(x0):\n",
    "    '''\n",
    "    Inputs: x0, \n",
    "    Outputs: new coefficients for x(t) approximation (c0, c1, c2, c3, c4)\n",
    "\n",
    "    Process:\n",
    "    1. Define Pyomo variables for coefficients\n",
    "    2. Define Pyomo constraints for equations to solve using collocation points\n",
    "    3. Solve for coefficients\n",
    "    '''\n",
    "    # Create Pyomo model\n",
    "    m = pyo.ConcreteModel()\n",
    "\n",
    "    # Define the approximation coefficients as Pyomo variables\n",
    "    m.c0 = pyo.Var()\n",
    "    m.c1 = pyo.Var()\n",
    "    m.c2 = pyo.Var()\n",
    "    m.c3 = pyo.Var()\n",
    "    m.c4 = pyo.Var()\n",
    "\n",
    "    # Define the system of equations as Pyomo constraints\n",
    "    def eq1(m):\n",
    "        return m.c0 == x0\n",
    "    def eq2(m):\n",
    "        return -(m.c0)**3 == m.c1\n",
    "    def eq3(m):\n",
    "        return -(m.c0 + m.c1/3 + m.c2/9 + m.c3/27 + m.c4/81)**3 == m.c1 + m.c2*2/3 + m.c3*3/9 + m.c4*4/27\n",
    "    def eq4(m):\n",
    "        return -(m.c0 + m.c1*2/3 + m.c2*4/9 + m.c3*8/27 + m.c4*16/81)**3 == m.c1 + m.c2*4/3 + m.c3*3*4/9 + m.c4*4*8/27\n",
    "    def eq5(m):\n",
    "        return -(m.c0 + m.c1 + m.c2 + m.c3 + m.c4)**3 == m.c1 + m.c2*2 + m.c3*3 + m.c4*4\n",
    "    \n",
    "    m.eq1 = pyo.Constraint(rule=eq1)\n",
    "    m.eq2 = pyo.Constraint(rule=eq2)\n",
    "    m.eq3 = pyo.Constraint(rule=eq3)\n",
    "    m.eq4 = pyo.Constraint(rule=eq4)\n",
    "    m.eq5 = pyo.Constraint(rule=eq5)\n",
    "\n",
    "    # Solve for Pyomo variables/coefficients\n",
    "    # Dummy objective\n",
    "    m.obj = pyo.Objective(expr=0, sense=pyo.minimize)\n",
    "    solver = pyo.SolverFactory('ipopt')\n",
    "    solver.solve(m)\n",
    "\n",
    "    c0 = pyo.value(m.c0)\n",
    "    c1 = pyo.value(m.c1)\n",
    "    c2 = pyo.value(m.c2)\n",
    "    c3 = pyo.value(m.c3)\n",
    "    c4 = pyo.value(m.c4)\n",
    "\n",
    "    # print(f\"c0 = {c0}\")\n",
    "    # print(f\"c1 = {c1}\")\n",
    "    # print(f\"c2 = {c2}\")\n",
    "    # print(f\"c3 = {c3}\")\n",
    "    # print(f\"c4 = {c4}\")\n",
    "\n",
    "    c_list = [c0, c1, c2, c3, c4]\n",
    "\n",
    "    return c_list\n",
    "\n",
    "\n"
   ]
  },
  {
   "cell_type": "markdown",
   "metadata": {},
   "source": [
    "Use the functions to solve for x0"
   ]
  },
  {
   "cell_type": "code",
   "execution_count": 2,
   "metadata": {},
   "outputs": [
    {
     "name": "stdout",
     "output_type": "stream",
     "text": [
      "Target x(tend) = x(1): 0.5\n",
      "Initial x0 guess:  1\n",
      "Prop. constant: 1\n",
      "\n",
      "Solution obtained! x0 = 0.5971377713067454\n",
      "x(tend) = 0.5000539027124361\n",
      "Final error value: -5.390271243610467e-05\n",
      "Final coefficients: [0.5971377713067454, -0.21292351579846341, 0.10982760518255946, -0.0499294810681177, 0.012036290237473456]\n",
      "Iterations used: 17\n",
      "\n",
      "Coefficient list: [[1.0, -1.0, 1.2233811321796568, -0.9590734469041239, 0.3102073339992943], [0.9254849807251728, -0.7926986627104915, 0.8645599682861063, -0.6367032486315758, 0.19948742586753057], [0.8514793973027976, -0.6173371778634148, 0.5910199255224272, -0.40396722946801383, 0.1217796305896002], [0.7825208380435501, -0.4791679194372605, 0.39935442398937365, -0.2510540064707248, 0.07242059067586215], [0.7235609306142783, -0.37881339373470735, 0.27615232685875524, -0.1594464186039221, 0.04393981562327987], [0.6778744404325977, -0.31149263089190216, 0.2024231830191112, -0.10828423990794087, 0.028617417379520175], [0.6458237478404253, -0.26936553765947796, 0.1604382639173582, -0.08083134711229212, 0.02065983656116223], [0.6252248753174761, -0.24440424559074223, 0.1372174951480403, -0.06631260410217427, 0.01655487177619529], [0.6128458234836022, -0.2301726364439266, 0.12456496759981917, -0.05863584560350176, 0.014420655428680188], [0.6057384126054189, -0.22225694745883137, 0.11771907924470146, -0.05455839629940709, 0.013298855928256458], [0.6017717641794641, -0.21791916134260547, 0.11402689783690162, -0.05238288894366354, 0.012703961518862323], [0.5995943906998045, -0.21556223802308636, 0.1120386019496992, -0.051218424201192804, 0.012386629025179962], [0.5984103137871074, -0.21428768365683623, 0.11096865943627378, -0.050593891657241846, 0.01221675746321444], [0.5977697177049996, -0.21360023751402832, 0.11039311431176264, -0.050258553176773746, 0.012125640243169233], [0.5974241244189819, -0.21322998052423414, 0.11008357535818247, -0.05007837960300973, 0.01207671137737263], [0.5972379657077818, -0.21303071379348124, 0.1099171162398401, -0.04998154017770187, 0.012050421106863184], [0.5971377713067454, -0.21292351579846341, 0.10982760518255946, -0.0499294810681177, 0.012036290237473456]]\n"
     ]
    }
   ],
   "source": [
    "# Define range of time values\n",
    "t0, tend = 0, 1\n",
    "# Target x value at tend\n",
    "xd = 0.5\n",
    "\n",
    "# Initialize list to store x0 values and pick initial guess\n",
    "x0 = []\n",
    "x0.append(1)\n",
    "\n",
    "# Initialize array to store coefficients\n",
    "coeff_guesses = []\n",
    "\n",
    "# Add proportionality constant for control, tolerance\n",
    "K = 1\n",
    "tol = 0.0001\n",
    "err = []\n",
    "err.append(10)\n",
    "\n",
    "# Add max iterations and iteration counter\n",
    "max_iters = 100000\n",
    "iters = 0\n",
    "\n",
    "print(f'Target x(tend) = x({tend}): {xd}')\n",
    "print(\"Initial x0 guess: \", x0[0])\n",
    "print(f'Prop. constant: {K}')\n",
    "\n",
    "\n",
    "while abs(err[-1]) > tol:\n",
    "    # Use x0 guess to solve for approximation coefficients\n",
    "    c_guess = get_coeffs(x0[-1])\n",
    "    # Append the new list to the list of coefficient guesses\n",
    "    coeff_guesses.append(c_guess)\n",
    "\n",
    "    # Solve for the x value at tend using the approximation\n",
    "    x_tend = x_approx(coeff_guesses[-1], x0[-1])\n",
    "\n",
    "    # Error > 0 if x(tend) < xd, want to increase x0\n",
    "    err.append(xd - x_tend)\n",
    "    iters += 1\n",
    "    if iters >= max_iters:\n",
    "        print(f'Max iterations reached! Error: {err[-1]}')\n",
    "        print(f'Final x0: {x0[-1]}')\n",
    "        print(err)\n",
    "        print(x0)\n",
    "        break\n",
    "    if abs(err[-1]) < tol:\n",
    "        print(f'\\nSolution obtained! x0 = {x0[-1]}')\n",
    "        print(f'x(tend) = {x_tend}')\n",
    "        print(f'Final error value: {err[-1]}')\n",
    "        print(f'Final coefficients: {coeff_guesses[-1]}')\n",
    "        print(f'Iterations used: {iters}')\n",
    "        print(f'\\nCoefficient list: {coeff_guesses}')\n",
    "        break\n",
    "    # Use prop. constant and last error for next x0 value\n",
    "    x0.append(x0[-1] + K*err[-1])\n",
    "\n",
    "    (xd - x_tend)\n"
   ]
  },
  {
   "cell_type": "markdown",
   "metadata": {},
   "source": [
    "Plot to view the solution"
   ]
  },
  {
   "cell_type": "code",
   "execution_count": 3,
   "metadata": {},
   "outputs": [
    {
     "data": {
      "image/png": "[encoded data removed]",
      "text/plain": [
       "<Figure size 640x480 with 1 Axes>"
      ]
     },
     "metadata": {},
     "output_type": "display_data"
    }
   ],
   "source": [
    "# Use final coefficients in approximate equation for x(t)\n",
    "\n",
    "t_plot = np.linspace(t0,tend,100)\n",
    "x_plot = x_approx(coeff_guesses[-1], t_plot)\n",
    "\n",
    "plt.figure()\n",
    "plt.plot(t_plot, x_plot, color='red')\n",
    "plt.show()"
   ]
  },
  {
   "cell_type": "code",
   "execution_count": null,
   "metadata": {},
   "outputs": [],
   "source": []
  }
 ],
 "metadata": {
  "kernelspec": {
   "display_name": "base",
   "language": "python",
   "name": "python3"
  },
  "language_info": {
   "codemirror_mode": {
    "name": "ipython",
    "version": 3
   },
   "file_extension": ".py",
   "mimetype": "text/x-python",
   "name": "python",
   "nbconvert_exporter": "python",
   "pygments_lexer": "ipython3",
   "version": "3.11.7"
  }
 },
 "nbformat": 4,
 "nbformat_minor": 2
}
